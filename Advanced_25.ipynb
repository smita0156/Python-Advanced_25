{
 "cells": [
  {
   "cell_type": "code",
   "execution_count": null,
   "id": "e5384de1-e118-4978-bb71-3120ad317834",
   "metadata": {},
   "outputs": [],
   "source": [
    "Q1. What is the distinction between a numpy array and a pandas data frame? Is there a way to\n",
    "convert between the two if there is?"
   ]
  },
  {
   "cell_type": "code",
   "execution_count": null,
   "id": "172bfd01-8b62-4ff8-b60b-2ae16e306aff",
   "metadata": {},
   "outputs": [],
   "source": [
    "Ans: Numpy Ndarray provides a lot of convenient and optimized methods for performing several mathematical operations on vectors.\n",
    "\n",
    "Pandas Dataframe is an in-memory 2-dimensional tabular representation of data. In simpler words, it can be seen as a spreadsheet having rows and columns.\n",
    "\n",
    "Conversion : Dataframe=pandas.DataFrame(array)"
   ]
  },
  {
   "cell_type": "code",
   "execution_count": null,
   "id": "64cdf226-1198-41d5-9c93-6246d74346ff",
   "metadata": {},
   "outputs": [],
   "source": [
    "Q2. What can go wrong when an user enters in a stock-ticker symbol, and how do you handle it?"
   ]
  },
  {
   "cell_type": "code",
   "execution_count": null,
   "id": "ec03d8a7-3c7d-4553-b507-125b2e455b35",
   "metadata": {},
   "outputs": [],
   "source": [
    "Trader ends up with the wrong asset. That can be a costly mistake. Tickers allow traders to set up watch lists or to use software to keep track of stock prices."
   ]
  },
  {
   "cell_type": "code",
   "execution_count": null,
   "id": "8a880bb4-5055-40b7-b8d3-18bcbd029e21",
   "metadata": {},
   "outputs": [],
   "source": [
    "Identify a specific security: Ticker symbols are used to identify a specific security, such as a stock or bond, on a financial platform or stock exchange. ...\n",
    "Track stock prices: Ticker symbols are often used to track stock prices in real-time on financial news websites and stock ticker boards."
   ]
  },
  {
   "cell_type": "code",
   "execution_count": null,
   "id": "617f5ead-9575-45f7-aba5-2f431eec8717",
   "metadata": {},
   "outputs": [],
   "source": [
    "Q3. Identify some of the plotting techniques that are used to produce a stock-market chart."
   ]
  },
  {
   "cell_type": "code",
   "execution_count": null,
   "id": "8f7c398f-a78b-42e9-90e1-2d8e8ddb4cc3",
   "metadata": {},
   "outputs": [],
   "source": [
    "Ans: Bar chart, Line Chart are used for plotting."
   ]
  },
  {
   "cell_type": "code",
   "execution_count": null,
   "id": "5daff812-598b-46b3-a8c6-3bf05b6763d6",
   "metadata": {},
   "outputs": [],
   "source": [
    "Q4. Why is it essential to print a legend on a stock market chart?"
   ]
  },
  {
   "cell_type": "code",
   "execution_count": null,
   "id": "ce3d46f7-2534-4445-bbc2-7ad840d707e6",
   "metadata": {},
   "outputs": [],
   "source": [
    "Ans: Legend will help comparison between different stocks, so will be essential on a stock market chart\n",
    "\n"
   ]
  },
  {
   "cell_type": "code",
   "execution_count": null,
   "id": "8d4e0c57-bee2-489b-bc07-ad50635a045d",
   "metadata": {},
   "outputs": [],
   "source": [
    "Q5. What is the best way to limit the length of a pandas data frame to less than a year?"
   ]
  },
  {
   "cell_type": "code",
   "execution_count": null,
   "id": "a557462f-19d1-4c36-aefc-230528919fa0",
   "metadata": {},
   "outputs": [],
   "source": [
    "Ans: : We can use start and end parameters for that. In start we write the date from where we are starting and at the end we write the end date. SO within this span we can restric the duration.Also we can use the parameters like periods for how much times we need the duration and we can also use the frequency parameter."
   ]
  },
  {
   "cell_type": "code",
   "execution_count": null,
   "id": "c6e11488-1b9c-4a0c-bdad-321edefaf830",
   "metadata": {},
   "outputs": [],
   "source": [
    "Q6. What is the definition of a 180-day moving average?"
   ]
  },
  {
   "cell_type": "code",
   "execution_count": null,
   "id": "db8ec203-a482-4f31-8d72-ffd18e5749e4",
   "metadata": {},
   "outputs": [],
   "source": [
    "Ans: : The 180-day moving average is represented as a line on charts and represents the average price over the past 180 days. The moving average can give traders a sense regarding whether the trend is up or down, while also identifying potential support or resistance areas."
   ]
  },
  {
   "cell_type": "code",
   "execution_count": null,
   "id": "039a479d-dc45-4c7b-9e7c-f80f3fcf0d5b",
   "metadata": {},
   "outputs": [],
   "source": [
    "Q7. Did the chapter s final example use &quot;indirect&quot; importing? If so, how exactly do you do it?"
   ]
  },
  {
   "cell_type": "code",
   "execution_count": null,
   "id": "222344a4-d68f-4ebc-abf8-923dbc6f7be3",
   "metadata": {},
   "outputs": [],
   "source": [
    "A high level of imports indicates robust domestic demand and a growing economy. "
   ]
  },
  {
   "cell_type": "code",
   "execution_count": null,
   "id": "699d94b0-0bcb-4ef6-8360-3a7748ea9631",
   "metadata": {},
   "outputs": [],
   "source": [
    "The direct or indirect import of diamonds from the country was banned. "
   ]
  },
  {
   "cell_type": "code",
   "execution_count": null,
   "id": "6ece8cd5-320e-4381-84ff-3fb00072e27f",
   "metadata": {},
   "outputs": [],
   "source": [
    "Exporting is the sale of products and services in foreign countries that are sourced or made in the home country. Importing refers to buying goods and services from foreign sources and bringing them back into the home country."
   ]
  }
 ],
 "metadata": {
  "kernelspec": {
   "display_name": "Python 3 (ipykernel)",
   "language": "python",
   "name": "python3"
  },
  "language_info": {
   "codemirror_mode": {
    "name": "ipython",
    "version": 3
   },
   "file_extension": ".py",
   "mimetype": "text/x-python",
   "name": "python",
   "nbconvert_exporter": "python",
   "pygments_lexer": "ipython3",
   "version": "3.10.6"
  }
 },
 "nbformat": 4,
 "nbformat_minor": 5
}
